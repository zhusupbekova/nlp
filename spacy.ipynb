{
 "cells": [
  {
   "cell_type": "code",
   "execution_count": 34,
   "metadata": {},
   "outputs": [],
   "source": [
    "import spacy\n",
    "\n",
    "from spacy.lang.en import English\n",
    "from spacy.matcher import Matcher\n",
    "from spacy.tokens import Doc\n",
    "\n",
    "nlp = spacy.load('en_core_web_md')"
   ]
  },
  {
   "cell_type": "code",
   "execution_count": 3,
   "metadata": {},
   "outputs": [
    {
     "output_type": "execute_result",
     "data": {
      "text/plain": "['Hello', 'World']"
     },
     "metadata": {},
     "execution_count": 3
    }
   ],
   "source": [
    "nlp = English()\n",
    "doc = nlp('Hello World')\n",
    "[token.text for token in doc]"
   ]
  },
  {
   "cell_type": "code",
   "execution_count": 24,
   "metadata": {},
   "outputs": [
    {
     "output_type": "execute_result",
     "data": {
      "text/plain": "[['My', 'DET'], ['name', 'NOUN'], ['is', 'AUX'], ['Alina', 'PROPN']]"
     },
     "metadata": {},
     "execution_count": 24
    }
   ],
   "source": [
    "\n",
    "doc = nlp('My name is Alina')\n",
    "[[token.text, token.pos_] for token in doc]"
   ]
  },
  {
   "cell_type": "code",
   "execution_count": 20,
   "metadata": {},
   "outputs": [
    {
     "output_type": "stream",
     "name": "stdout",
     "text": "Matches: iOS 13\n"
    }
   ],
   "source": [
    "matcher = Matcher(nlp.vocab)\n",
    "doc = nlp(\n",
    "    \"It was another big week for rumors this week, with a flurry of reports about Apple's \"\n",
    "    \"augmented reality glasses, the iPhone 12, and Apple's \\\"AirPods Studio\\\" over-ear headphones. \"\n",
    "    \"This week also saw the release of iOS 13, bringing a number of health-related updates to Apple's mobile devices.\"\n",
    "    )\n",
    "pattern = [{\"LOWER\": \"ios\"}, {\"IS_DIGIT\": True}]\n",
    "matcher.add(\"iPhone pattern\", None, pattern)\n",
    "matches = matcher(doc)\n",
    "for match_id, start, end in matches:\n",
    "    print(\"Matches:\", doc[start:end].text)"
   ]
  },
  {
   "cell_type": "code",
   "execution_count": 25,
   "metadata": {},
   "outputs": [
    {
     "output_type": "stream",
     "name": "stdout",
     "text": "Total matches found: 3\nMatch found: downloaded Fortnite\nMatch found: downloading Minecraft\nMatch found: download Winzip\n"
    }
   ],
   "source": [
    "matcher = Matcher(nlp.vocab)\n",
    "\n",
    "doc = nlp(\n",
    "    \"i downloaded Fortnite on my laptop and can't open the game at all. Help? \"\n",
    "    \"so when I was downloading Minecraft, I got the Windows version where it \"\n",
    "    \"is the '.zip' folder and I used the default program to unpack it... do \"\n",
    "    \"I also need to download Winzip?\"\n",
    ")\n",
    "\n",
    "pattern = [{\"LEMMA\": \"download\"}, {\"POS\": \"PROPN\"}]\n",
    "matcher.add(\"DOWNLOAD_THINGS_PATTERN\", None, pattern)\n",
    "matches = matcher(doc)\n",
    "print(\"Total matches found:\", len(matches))\n",
    "\n",
    "for match_id, start, end in matches:\n",
    "    print(\"Match found:\", doc[start:end].text)"
   ]
  },
  {
   "cell_type": "code",
   "execution_count": 30,
   "metadata": {},
   "outputs": [
    {
     "output_type": "stream",
     "name": "stdout",
     "text": "3197928453018144401\ncoffee\n"
    }
   ],
   "source": [
    "doc = nlp('I love coffee')\n",
    "\n",
    "coffee_hash = nlp.vocab.strings['coffee']\n",
    "print(coffee_hash)\n",
    "\n",
    "coffee_string = nlp.vocab.strings[coffee_hash]\n",
    "print(coffee_string)"
   ]
  },
  {
   "cell_type": "code",
   "execution_count": 33,
   "metadata": {},
   "outputs": [
    {
     "output_type": "stream",
     "name": "stdout",
     "text": "1462845201014212421\nComply\n"
    }
   ],
   "source": [
    "doc = nlp(\"Other topics of interest this week included our look at Comply's replacement foam ear tips for the AirPods Pro, and some signs that existing supplies of the HomePod may be shrinking, suggesting we may be getting closer to the release of an update or a rumored lower-cost model.\")\n",
    "\n",
    "propn_hash = nlp.vocab.strings[\"Comply\"]\n",
    "print(propn_hash)\n",
    "\n",
    "propn_string = nlp.vocab.strings[propn_hash]\n",
    "print(propn_string)"
   ]
  },
  {
   "cell_type": "code",
   "execution_count": null,
   "metadata": {},
   "outputs": [],
   "source": []
  }
 ],
 "metadata": {
  "language_info": {
   "codemirror_mode": {
    "name": "ipython",
    "version": 3
   },
   "file_extension": ".py",
   "mimetype": "text/x-python",
   "name": "python",
   "nbconvert_exporter": "python",
   "pygments_lexer": "ipython3",
   "version": "3.8.1-final"
  },
  "orig_nbformat": 2,
  "kernelspec": {
   "name": "python38164bitnlpvenv1adb4bcce8e64af985ce9bf9aa37239b",
   "display_name": "Python 3.8.1 64-bit ('nlp': venv)"
  }
 },
 "nbformat": 4,
 "nbformat_minor": 2
}